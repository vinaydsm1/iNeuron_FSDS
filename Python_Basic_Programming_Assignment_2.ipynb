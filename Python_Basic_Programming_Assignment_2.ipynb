{
 "cells": [
  {
   "cell_type": "code",
   "execution_count": null,
   "id": "353eff29",
   "metadata": {},
   "outputs": [],
   "source": [
    "\"\"\"\n",
    "1.What are the two values of the Boolean data type? How do you write them?\n",
    "\"\"\"\n",
    "\n",
    "#There are two values for Boolean data type:\n",
    "#a. True\n",
    "#b. False\n",
    "\n",
    "a=True\n",
    "b=False\n",
    "\n",
    "It compare the values and gives us the True and False result\n",
    "5==5     True\n",
    "5!=4     True\n",
    "\n",
    "5==4     False\n",
    "5>10     False\n"
   ]
  },
  {
   "cell_type": "code",
   "execution_count": 6,
   "id": "b52fa267",
   "metadata": {},
   "outputs": [
    {
     "data": {
      "text/plain": [
       "False"
      ]
     },
     "execution_count": 6,
     "metadata": {},
     "output_type": "execute_result"
    }
   ],
   "source": [
    "5==4"
   ]
  },
  {
   "cell_type": "code",
   "execution_count": null,
   "id": "f9b9b6b9",
   "metadata": {},
   "outputs": [],
   "source": [
    "\"\"\"\n",
    "2. What are the three different types of Boolean operators?\n",
    "\"\"\"\n",
    "The three different types of Boolean operators are:\n",
    "a. or\n",
    "b. and\n",
    "c. not"
   ]
  },
  {
   "cell_type": "code",
   "execution_count": null,
   "id": "2414fbd7",
   "metadata": {},
   "outputs": [],
   "source": [
    "\"\"\"\n",
    "3. Make a list of each Boolean operator's truth tables \n",
    "(i.e. every possible combination of Boolean values for the operator and what it evaluate ).\n",
    "\"\"\"\n",
    "\n",
    "OR:\n",
    "    A                B               A or B\n",
    "0 (False)        0 (False)          0 (False)\n",
    "0 (False)        1 (True)           1 (True)\n",
    "1 (True)         0 (False)          1 (True)\n",
    "1 (True)         1 (True)           1 (True)\n",
    "\n",
    "AND:\n",
    "    A                B                A and B\n",
    "0 (False)        0 (False)          0 (False)\n",
    "0 (False)        1 (True)           0 (False)\n",
    "1 (True)         0 (False)          0 (False)\n",
    "1 (True)         1 (True)           1 (True)\n",
    "\n",
    "\n",
    "NOT:\n",
    "    A                A'\n",
    "0 (False)        1 (True)        \n",
    "1 (True)         0 (False)\n",
    "\n",
    "\n",
    "\n",
    "\n",
    "\n",
    "\n",
    "\n"
   ]
  },
  {
   "cell_type": "code",
   "execution_count": null,
   "id": "f284b97c",
   "metadata": {},
   "outputs": [],
   "source": [
    "\"\"\"\n",
    "\n",
    "4. What are the values of the following expressions?\n",
    "(5 > 4) and (3 == 5)\n",
    "not (5 > 4)\n",
    "(5 > 4) or (3 == 5)\n",
    "not ((5 > 4) or (3 == 5))\n",
    "(True and True) and (True == False)\n",
    "(not False) or (not True)\n",
    "\n",
    "\n",
    "\"\"\"\n",
    "\n",
    "(5 > 4) and (3 == 5)                       0 (False) \n",
    "not (5 > 4)                                0 (False) \n",
    "(5 > 4) or (3 == 5)                        1 (True)\n",
    "not ((5 > 4) or (3 == 5))                  0 (False) \n",
    "(True and True) and (True == False)        0 (False) \n",
    "(not False) or (not True)                  1 (True)"
   ]
  },
  {
   "cell_type": "code",
   "execution_count": null,
   "id": "16bf5008",
   "metadata": {},
   "outputs": [],
   "source": [
    "\"\"\"\n",
    "5. What are the six comparison operators?\n",
    "\n",
    "\"\"\"\n",
    "\n",
    "Following are the six comparison operators:\n",
    "\n",
    "1. Equal to (==)                    2==2\n",
    "2. Not Equal to (!=)                4!=3\n",
    "3. Greater Than (>)                 5>7\n",
    "4. Greater Than or Equal To(>=)     9>=9\n",
    "5. Less Than (<)                    5<7\n",
    "6. Less Than or Equal To(<=)        9<=9"
   ]
  },
  {
   "cell_type": "code",
   "execution_count": null,
   "id": "361ad361",
   "metadata": {},
   "outputs": [],
   "source": [
    "\"\"\"\n",
    "6. How do you tell the difference between the equal to and assignment operators?\n",
    "Describe a condition and when you would use one.\n",
    "\n",
    "\"\"\"\n",
    "In Assignment operator, we assign a value to a variable and we use single equal to sign (=). Like a=8\n",
    "On the other hand, In Equal to Operator is a comparison operators, we compare two expressions and \n",
    "here we use double equal to sign (==)\n",
    "e.g. \n",
    "9 == 10,        0 (False)\n",
    "2**3==4*2 ,     1 (True)\n",
    "'a'=='A'        0 (False)\n"
   ]
  },
  {
   "cell_type": "code",
   "execution_count": null,
   "id": "ec9059b4",
   "metadata": {},
   "outputs": [],
   "source": [
    "\"\"\"\n",
    "7. Identify the three blocks in this code:\n",
    "spam = 0\n",
    "if spam == 10:\n",
    "print('eggs')\n",
    "if spam > 5:\n",
    "print('bacon')\n",
    "else:\n",
    "print('ham')\n",
    "print('spam')\n",
    "print('spam')\n",
    "\n",
    "\n",
    "\"\"\"\n",
    "\n",
    "Last 3  print statements execute successfully \n",
    "    print('ham')\n",
    "print('spam')\n",
    "print('spam')\n",
    "\n",
    "So, these are 3 block."
   ]
  },
  {
   "cell_type": "code",
   "execution_count": 18,
   "id": "f83f4c74",
   "metadata": {},
   "outputs": [
    {
     "name": "stdout",
     "output_type": "stream",
     "text": [
      "ham\n",
      "spam\n",
      "spam\n"
     ]
    }
   ],
   "source": [
    "spam = 0\n",
    "if spam == 10:\n",
    "    print('eggs')\n",
    "if spam > 5:\n",
    "    print('bacon')\n",
    "else:\n",
    "    print('ham')\n",
    "print('spam')\n",
    "print('spam')"
   ]
  },
  {
   "cell_type": "code",
   "execution_count": 22,
   "id": "d7d6da14",
   "metadata": {},
   "outputs": [
    {
     "name": "stdout",
     "output_type": "stream",
     "text": [
      "Hello\n",
      "Howdy\n",
      "Greetings!\n",
      "Greetings!\n",
      "Greetings!\n"
     ]
    }
   ],
   "source": [
    "\"\"\"\n",
    "8. Write code that prints Hello if 1 is stored in spam, prints Howdy if 2 is stored in spam, \n",
    "and prints Greetings! if anything else is stored in spam.\n",
    "\"\"\"\n",
    "spam= [1,2,3,4,5]\n",
    "for i in spam:\n",
    "    if i==1:\n",
    "        print (\"Hello\")\n",
    "    elif i==2:\n",
    "        print (\"Howdy\")\n",
    "    else:\n",
    "        print(\"Greetings!\")\n",
    "    i+=1\n"
   ]
  },
  {
   "cell_type": "code",
   "execution_count": null,
   "id": "9e205cb7",
   "metadata": {},
   "outputs": [],
   "source": [
    "\"\"\"\n",
    "9.If your programme is stuck in an endless loop, what keys you’ll press?\n",
    "\"\"\"\n",
    "\n",
    "I will press\"i\" two times to mannauly interrupt the processing of the code."
   ]
  },
  {
   "cell_type": "code",
   "execution_count": 23,
   "id": "5cc2232a",
   "metadata": {},
   "outputs": [
    {
     "name": "stdout",
     "output_type": "stream",
     "text": [
      "1\n",
      "2\n",
      "3\n"
     ]
    }
   ],
   "source": [
    "\"\"\"\n",
    "10. How can you tell the difference between break and continue?\n",
    "\"\"\"\n",
    "##Break>>>>>>>>\n",
    "# As we konw in the for loop, the number of iteration is equal to the number of items and the for loop run for \n",
    "# each items till end of the loop, but Break statement terminate the loop from further execution as soon as it gets the condition\n",
    "# true\n",
    "\n",
    "l=[1,2,3,4,5,'a','b','c']\n",
    "for i in l:\n",
    "    if i==4:\n",
    "        break\n",
    "    print(i)\n",
    "else :\n",
    "    print (\"loop is executed\")\n",
    "    \n",
    "    \n",
    "\n"
   ]
  },
  {
   "cell_type": "code",
   "execution_count": 26,
   "id": "95a378ed",
   "metadata": {},
   "outputs": [
    {
     "name": "stdout",
     "output_type": "stream",
     "text": [
      "0\n",
      "1\n",
      "2\n",
      "3\n",
      "4\n",
      "5\n",
      "6\n",
      "8\n",
      "9\n"
     ]
    }
   ],
   "source": [
    "#Continue>>>>>\n",
    "#The continue statement skip the output where condition is true and does not terminate the loop and pass the control back to loop for further execution\n",
    "\n",
    "for i in range(10):\n",
    "    if i==7:\n",
    "        continue\n",
    "    print (i)"
   ]
  },
  {
   "cell_type": "code",
   "execution_count": null,
   "id": "cecde53b",
   "metadata": {},
   "outputs": [],
   "source": [
    "\"\"\"\n",
    "11. In a for loop, what is the difference between range(10), range(0, 10), and range(0, 10, 1)?\n",
    "\"\"\"\n",
    "There is no difference. All the above 3 range objects are same things but it is written differently.\n",
    "range(10),---here we are not giving any starting point so by default it takes 0 as starting point\n",
    "range(0,10),---here we have mentioned lower and upper bound of the range\n",
    "range (0,10,1),----here we have given lower and upper bound along with jump ...by default +ive 1 is the jump in range"
   ]
  },
  {
   "cell_type": "code",
   "execution_count": 27,
   "id": "58d7d338",
   "metadata": {},
   "outputs": [
    {
     "name": "stdout",
     "output_type": "stream",
     "text": [
      "1\n",
      "2\n",
      "3\n",
      "4\n",
      "5\n",
      "6\n",
      "7\n",
      "8\n",
      "9\n",
      "10\n"
     ]
    }
   ],
   "source": [
    "\"\"\"\n",
    "12. Write a short program that prints the numbers 1 to 10 using a for loop. \n",
    "Then write an equivalent program that prints the numbers 1 to 10 using a while loop.\n",
    "\"\"\"\n",
    "\n",
    "for i in range (1,11):\n",
    "    print(i)"
   ]
  },
  {
   "cell_type": "code",
   "execution_count": 28,
   "id": "9244c345",
   "metadata": {},
   "outputs": [
    {
     "name": "stdout",
     "output_type": "stream",
     "text": [
      "1\n",
      "2\n",
      "3\n",
      "4\n",
      "5\n",
      "6\n",
      "7\n",
      "8\n",
      "9\n",
      "10\n"
     ]
    }
   ],
   "source": [
    "i=1\n",
    "while i <=10:\n",
    "    print(i)\n",
    "    i+=1\n",
    "    "
   ]
  },
  {
   "cell_type": "code",
   "execution_count": null,
   "id": "54df5bc6",
   "metadata": {},
   "outputs": [],
   "source": [
    "\"\"\"\n",
    "13. If you had a function named bacon() inside a module named spam, \n",
    "how would you call it after importing spam?\n",
    "\"\"\"\n",
    "import spam\n",
    "spam.bacon()\n",
    "\n"
   ]
  }
 ],
 "metadata": {
  "kernelspec": {
   "display_name": "Python 3 (ipykernel)",
   "language": "python",
   "name": "python3"
  },
  "language_info": {
   "codemirror_mode": {
    "name": "ipython",
    "version": 3
   },
   "file_extension": ".py",
   "mimetype": "text/x-python",
   "name": "python",
   "nbconvert_exporter": "python",
   "pygments_lexer": "ipython3",
   "version": "3.9.12"
  }
 },
 "nbformat": 4,
 "nbformat_minor": 5
}
