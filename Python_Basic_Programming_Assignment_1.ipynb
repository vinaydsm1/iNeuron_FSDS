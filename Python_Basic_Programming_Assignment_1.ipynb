{
 "cells": [
  {
   "cell_type": "code",
   "execution_count": null,
   "id": "067475dd",
   "metadata": {},
   "outputs": [],
   "source": [
    "\"\"\"\n",
    "1. In the below elements which of them are values or an expression? \n",
    "eg:- values can be integer or string and expressions will be mathematical operators.\n",
    "\n",
    "\n",
    "*              Expressions\n",
    "'hello'        Value    \n",
    "-87.8          Value\n",
    "-              Expressions \n",
    "/              Expressions\n",
    "+              Expressions\n",
    "6              Value\n",
    "\n",
    "\n",
    "\"\"\""
   ]
  },
  {
   "cell_type": "code",
   "execution_count": null,
   "id": "b87ea6ca",
   "metadata": {},
   "outputs": [],
   "source": [
    "\"\"\"\n",
    "2. What is the difference between string and variable?\n",
    "\n",
    "String: It is a value which in text and it should be enclosed in single/double quotes and it is one of the type of Data types. \n",
    "like \"sudh\", \"100\", \"iNeuron1\",\"abc_1@gmail.com\"\n",
    "\n",
    "Variable: It holds value of different different data types e.g, Integer, String, Boolean, float etc. \n",
    "Like a= 10 , b= \"python\" here a holds numeric value and b holds string value\n",
    "\"\"\""
   ]
  },
  {
   "cell_type": "code",
   "execution_count": null,
   "id": "242edb9d",
   "metadata": {},
   "outputs": [],
   "source": [
    "\"\"\"\n",
    "3. Describe three different data types.\n",
    "\n",
    "In Python, there is no specific way to delcare data type of a variable. Whatever data type of value we assign to a variable,\n",
    "the variable become that data type.\n",
    "\n",
    "a. Numeric Types- \n",
    "\n",
    "Int: It takes integer value\n",
    "\n",
    "X= 10\n",
    "\n",
    "Float: It takes decimal value\n",
    "\n",
    "Y= 1.2432\n",
    "\n",
    "Complex:\n",
    "\n",
    "complx= 3+7j\n",
    "\n",
    "\n",
    "b. Text type- \n",
    "\n",
    "String: Anything enclosed in single/double quotes is string.\n",
    "\n",
    "n= \"sudh\"\n",
    "g= \"100\"\n",
    "h= \"iNeuron1\"\n",
    "email=\"abc_1@gmail.com\"\n",
    "\n",
    "c. Sequence Type:\n",
    "\n",
    "List: It helps us to store multiple data in single variable. It has all the items in []\n",
    "\n",
    "l=['sudh','abc_22@gmail.com', 12, {'k1':'assd','k2':123}, (1,2,3), {6,7,8,6,5,5,4,7}]\n",
    "\n",
    "Tuple: \n",
    "\n",
    "t=(1,2,3)\n",
    "\n",
    "\"\"\""
   ]
  },
  {
   "cell_type": "code",
   "execution_count": null,
   "id": "92aef5ec",
   "metadata": {},
   "outputs": [],
   "source": [
    "\"\"\"\n",
    "4. What is an expression made up of? What do all expressions do?\n",
    "\n",
    "Expression is made up of values and operator which produce a different results.\n",
    "\n",
    "Lets take a expamle of \n",
    "\n",
    "a.Mathematical expression:\n",
    "\n",
    "a=8\n",
    "b=3\n",
    "c= a+b (Additional mathematical expression)\n",
    "d= a/b (Divisional ME)\n",
    "\n",
    "b. Logical expression:\n",
    "\n",
    "a=8\n",
    "b=8\n",
    "c=5\n",
    "\n",
    "d=(a==b)\n",
    "\n",
    "e=(a==c)\n",
    "\n",
    "\n",
    "\n",
    "\"\"\""
   ]
  },
  {
   "cell_type": "code",
   "execution_count": null,
   "id": "c7beaad5",
   "metadata": {},
   "outputs": [],
   "source": [
    "\"\"\"\n",
    "5. This assignment statements, like spam = 10. What is the difference between an expression and a statement?\n",
    "\n",
    "In case of expression, we are doing some calculation and expression gives us caluatlated result based on the \n",
    "operation we mentioned\n",
    "like a=3+5, it gives us value of a as 8.\n",
    "\n",
    "On the other hand statement simply assign the value to the varibale it does do any calculation.\n",
    "like a=3, the a has 3 as a value.\n",
    "\"\"\""
   ]
  },
  {
   "cell_type": "code",
   "execution_count": null,
   "id": "4ae9efeb",
   "metadata": {},
   "outputs": [],
   "source": [
    "\"\"\"\n",
    "6. After running the following code, what does the variable bacon contain?\n",
    "bacon = 22\n",
    "bacon + 1\n",
    "\n",
    "\n",
    "\"\"\"\n",
    "bacon has 23 as a value"
   ]
  },
  {
   "cell_type": "code",
   "execution_count": null,
   "id": "c4e46758",
   "metadata": {},
   "outputs": [],
   "source": [
    "\"\"\"\n",
    "7. What should the values of the following two terms be?\n",
    "'spam' + 'spamspam'\n",
    "'spam' * 3\n",
    "\n",
    "\n",
    "\"\"\"\n",
    "'spam' + 'spamspam'......>>'spamspamspam'\n",
    "'spam' * 3...............>>'spamspamspam'"
   ]
  },
  {
   "cell_type": "code",
   "execution_count": 10,
   "id": "d8f889aa",
   "metadata": {},
   "outputs": [
    {
     "data": {
      "text/plain": [
       "'spamspamspam'"
      ]
     },
     "execution_count": 10,
     "metadata": {},
     "output_type": "execute_result"
    }
   ],
   "source": [
    "'spam' * 3"
   ]
  },
  {
   "cell_type": "code",
   "execution_count": 9,
   "id": "e95029c1",
   "metadata": {},
   "outputs": [
    {
     "data": {
      "text/plain": [
       "'spamspamspam'"
      ]
     },
     "execution_count": 9,
     "metadata": {},
     "output_type": "execute_result"
    }
   ],
   "source": [
    "'spam' + 'spamspam'"
   ]
  },
  {
   "cell_type": "code",
   "execution_count": null,
   "id": "2719e43d",
   "metadata": {},
   "outputs": [],
   "source": [
    "\"\"\"\n",
    "8. Why is eggs a valid variable name while 100 is invalid?\n",
    "\n",
    "\"\"\"\n",
    "The valid variable name should start with a alphabet or undersocre (_) only.. We can not start variable name with \n",
    "any number or special characters. \n",
    "Below are the examples"
   ]
  },
  {
   "cell_type": "code",
   "execution_count": 18,
   "id": "5a71467f",
   "metadata": {},
   "outputs": [
    {
     "data": {
      "text/plain": [
       "'4'"
      ]
     },
     "execution_count": 18,
     "metadata": {},
     "output_type": "execute_result"
    }
   ],
   "source": [
    "_a=4\n",
    "_a\n",
    "str(_a)"
   ]
  },
  {
   "cell_type": "code",
   "execution_count": 14,
   "id": "1ef1aafa",
   "metadata": {},
   "outputs": [
    {
     "data": {
      "text/plain": [
       "'sudh'"
      ]
     },
     "execution_count": 14,
     "metadata": {},
     "output_type": "execute_result"
    }
   ],
   "source": [
    "d='sudh'\n",
    "d"
   ]
  },
  {
   "cell_type": "code",
   "execution_count": 17,
   "id": "9cc5fcb9",
   "metadata": {},
   "outputs": [
    {
     "data": {
      "text/plain": [
       "'555'"
      ]
     },
     "execution_count": 17,
     "metadata": {},
     "output_type": "execute_result"
    }
   ],
   "source": [
    "p1='555'\n",
    "p1"
   ]
  },
  {
   "cell_type": "code",
   "execution_count": 15,
   "id": "38f93d7b",
   "metadata": {},
   "outputs": [
    {
     "ename": "SyntaxError",
     "evalue": "cannot assign to literal (3962278059.py, line 1)",
     "output_type": "error",
     "traceback": [
      "\u001b[1;36m  Input \u001b[1;32mIn [15]\u001b[1;36m\u001b[0m\n\u001b[1;33m    100=\"sudh\"\u001b[0m\n\u001b[1;37m    ^\u001b[0m\n\u001b[1;31mSyntaxError\u001b[0m\u001b[1;31m:\u001b[0m cannot assign to literal\n"
     ]
    }
   ],
   "source": [
    "100=\"sudh\""
   ]
  },
  {
   "cell_type": "code",
   "execution_count": 16,
   "id": "e0595ae6",
   "metadata": {},
   "outputs": [
    {
     "ename": "SyntaxError",
     "evalue": "invalid syntax (653766283.py, line 1)",
     "output_type": "error",
     "traceback": [
      "\u001b[1;36m  Input \u001b[1;32mIn [16]\u001b[1;36m\u001b[0m\n\u001b[1;33m    @aa=9\u001b[0m\n\u001b[1;37m       ^\u001b[0m\n\u001b[1;31mSyntaxError\u001b[0m\u001b[1;31m:\u001b[0m invalid syntax\n"
     ]
    }
   ],
   "source": [
    "@aa=9"
   ]
  },
  {
   "cell_type": "code",
   "execution_count": 19,
   "id": "333df202",
   "metadata": {},
   "outputs": [],
   "source": [
    "\"\"\"\n",
    "9. What three functions can be used to get the integer, floating-point number, or string version of a value?\n",
    "\n",
    "\n",
    "\"\"\"\n",
    "\n",
    "_a=4\n",
    "_a\n",
    "c='10'\n",
    "b=int(c) #Convert a number or string to an integer, or return 0 if no arguments are given.\n",
    "d=str(_a) #Create a new string object from the given object.\n",
    "e=float(c) #Convert a string or number to a floating point number, if possible."
   ]
  },
  {
   "cell_type": "code",
   "execution_count": 23,
   "id": "2ec185e8",
   "metadata": {},
   "outputs": [
    {
     "data": {
      "text/plain": [
       "('10', str, 10, int)"
      ]
     },
     "execution_count": 23,
     "metadata": {},
     "output_type": "execute_result"
    }
   ],
   "source": [
    "c,type(c), b, type(b)"
   ]
  },
  {
   "cell_type": "code",
   "execution_count": 24,
   "id": "d47e8b9a",
   "metadata": {},
   "outputs": [
    {
     "data": {
      "text/plain": [
       "(4, int, '4', str)"
      ]
     },
     "execution_count": 24,
     "metadata": {},
     "output_type": "execute_result"
    }
   ],
   "source": [
    "_a,type(_a), d, type(d)"
   ]
  },
  {
   "cell_type": "code",
   "execution_count": 25,
   "id": "7a732640",
   "metadata": {},
   "outputs": [
    {
     "data": {
      "text/plain": [
       "('10', str, 10.0, float)"
      ]
     },
     "execution_count": 25,
     "metadata": {},
     "output_type": "execute_result"
    }
   ],
   "source": [
    "c,type(c), e, type(e)"
   ]
  },
  {
   "cell_type": "code",
   "execution_count": 28,
   "id": "3f6d54de",
   "metadata": {},
   "outputs": [
    {
     "ename": "TypeError",
     "evalue": "can only concatenate str (not \"int\") to str",
     "output_type": "error",
     "traceback": [
      "\u001b[1;31m---------------------------------------------------------------------------\u001b[0m",
      "\u001b[1;31mTypeError\u001b[0m                                 Traceback (most recent call last)",
      "Input \u001b[1;32mIn [28]\u001b[0m, in \u001b[0;36m<cell line: 11>\u001b[1;34m()\u001b[0m\n\u001b[0;32m      1\u001b[0m \u001b[38;5;124;03m\"\"\"\u001b[39;00m\n\u001b[0;32m      2\u001b[0m \u001b[38;5;124;03m10. Why does this expression cause an error? How can you fix it?\u001b[39;00m\n\u001b[0;32m      3\u001b[0m \u001b[38;5;124;03m'I have eaten ' + 99 + ' burritos.'\u001b[39;00m\n\u001b[0;32m      4\u001b[0m \n\u001b[0;32m      5\u001b[0m \n\u001b[0;32m      6\u001b[0m \u001b[38;5;124;03m\"\"\"\u001b[39;00m\n\u001b[0;32m      7\u001b[0m \u001b[38;5;124;03m\"\"\"The reason of error here is we are trying to concatenate two different data types i.e. string and int. \u001b[39;00m\n\u001b[0;32m      8\u001b[0m \u001b[38;5;124;03mAs we can see 99 is the int type of data.\u001b[39;00m\n\u001b[0;32m      9\u001b[0m \u001b[38;5;124;03mTo fix the expression error, we need to convert 99 (int data type) to string data type\"\"\"\u001b[39;00m\n\u001b[1;32m---> 11\u001b[0m expre\u001b[38;5;241m=\u001b[39m \u001b[38;5;124;43m'\u001b[39;49m\u001b[38;5;124;43mI have eaten \u001b[39;49m\u001b[38;5;124;43m'\u001b[39;49m\u001b[43m \u001b[49m\u001b[38;5;241;43m+\u001b[39;49m\u001b[43m \u001b[49m\u001b[38;5;241;43m99\u001b[39;49m \u001b[38;5;241m+\u001b[39m \u001b[38;5;124m'\u001b[39m\u001b[38;5;124m burritos.\u001b[39m\u001b[38;5;124m'\u001b[39m\n\u001b[0;32m     12\u001b[0m expre\n",
      "\u001b[1;31mTypeError\u001b[0m: can only concatenate str (not \"int\") to str"
     ]
    }
   ],
   "source": [
    "\"\"\"\n",
    "10. Why does this expression cause an error? How can you fix it?\n",
    "'I have eaten ' + 99 + ' burritos.'\n",
    "\n",
    "\n",
    "\"\"\"\n",
    "\"\"\"The reason of error here is we are trying to concatenate two different data types i.e. string and int. \n",
    "As we can see 99 is the int type of data.\n",
    "To fix the expression error, we need to convert 99 (int data type) to string data type\"\"\"\n",
    "\n",
    "expre= 'I have eaten ' + 99 + ' burritos.'\n",
    "expre"
   ]
  },
  {
   "cell_type": "code",
   "execution_count": 29,
   "id": "886fd791",
   "metadata": {},
   "outputs": [
    {
     "data": {
      "text/plain": [
       "'I have eaten 99 burritos.'"
      ]
     },
     "execution_count": 29,
     "metadata": {},
     "output_type": "execute_result"
    }
   ],
   "source": [
    "expre1= 'I have eaten ' + '99' + ' burritos.'\n",
    "expre1"
   ]
  },
  {
   "cell_type": "code",
   "execution_count": null,
   "id": "0a9a2b1f",
   "metadata": {},
   "outputs": [],
   "source": []
  }
 ],
 "metadata": {
  "kernelspec": {
   "display_name": "Python 3 (ipykernel)",
   "language": "python",
   "name": "python3"
  },
  "language_info": {
   "codemirror_mode": {
    "name": "ipython",
    "version": 3
   },
   "file_extension": ".py",
   "mimetype": "text/x-python",
   "name": "python",
   "nbconvert_exporter": "python",
   "pygments_lexer": "ipython3",
   "version": "3.9.12"
  }
 },
 "nbformat": 4,
 "nbformat_minor": 5
}
